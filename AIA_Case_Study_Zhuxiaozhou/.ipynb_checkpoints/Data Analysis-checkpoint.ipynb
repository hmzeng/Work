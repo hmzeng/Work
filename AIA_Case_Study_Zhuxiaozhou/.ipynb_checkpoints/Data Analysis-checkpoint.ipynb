{
 "cells": [
  {
   "cell_type": "code",
   "execution_count": 2,
   "id": "d0128aa0",
   "metadata": {
    "ExecuteTime": {
     "end_time": "2022-02-24T12:06:14.089659Z",
     "start_time": "2022-02-24T12:06:14.080649Z"
    }
   },
   "outputs": [
    {
     "name": "stdout",
     "output_type": "stream",
     "text": [
      "The autoreload extension is already loaded. To reload it, use:\n",
      "  %reload_ext autoreload\n"
     ]
    }
   ],
   "source": [
    "import pandas as pd\n",
    "import numpy as np\n",
    "import matplotlib.pyplot as plt\n",
    "import seaborn as sns\n",
    "sns.set_style('darkgrid')\n",
    "\n",
    "%load_ext autoreload\n",
    "%autoreload 1\n",
    "%aimport src.utils"
   ]
  },
  {
   "cell_type": "markdown",
   "id": "77a5b5d5",
   "metadata": {},
   "source": [
    "# Load Raw Data"
   ]
  },
  {
   "cell_type": "code",
   "execution_count": 3,
   "id": "e4cabc35",
   "metadata": {
    "ExecuteTime": {
     "end_time": "2022-02-24T12:06:33.663025Z",
     "start_time": "2022-02-24T12:06:14.090724Z"
    }
   },
   "outputs": [],
   "source": [
    "df1 = pd.read_excel('data/raw/case_study_data1.xlsx')\n",
    "df2 = pd.read_excel('data/raw/case_study_data2.xlsx', \n",
    "                    parse_dates=['policy_application_date', 'policy_close_date'])\n",
    "df3 = pd.read_csv(\"data/raw/case_study_data3.csv\")"
   ]
  },
  {
   "cell_type": "markdown",
   "id": "ceebecdb",
   "metadata": {},
   "source": [
    "# Data Preprocess"
   ]
  },
  {
   "cell_type": "markdown",
   "id": "7271a209",
   "metadata": {},
   "source": [
    "## Explore"
   ]
  },
  {
   "cell_type": "markdown",
   "id": "630fd8e9",
   "metadata": {},
   "source": [
    "检查数据类型<br>\n",
    "检查数据缺失（NA或空格）<br>\n",
    "对数值型变量检查其分布和合理范围<br>\n",
    "对类别型变量检查各个类别的频率"
   ]
  },
  {
   "cell_type": "markdown",
   "id": "8d954c17",
   "metadata": {},
   "source": [
    "### DF1"
   ]
  },
  {
   "cell_type": "code",
   "execution_count": 4,
   "id": "9b8c3b25",
   "metadata": {
    "ExecuteTime": {
     "end_time": "2022-02-24T12:06:34.144330Z",
     "start_time": "2022-02-24T12:06:33.665011Z"
    }
   },
   "outputs": [
    {
     "data": {
      "text/html": [
       "<div>\n",
       "<style scoped>\n",
       "    .dataframe tbody tr th:only-of-type {\n",
       "        vertical-align: middle;\n",
       "    }\n",
       "\n",
       "    .dataframe tbody tr th {\n",
       "        vertical-align: top;\n",
       "    }\n",
       "\n",
       "    .dataframe thead th {\n",
       "        text-align: right;\n",
       "    }\n",
       "</style>\n",
       "<table border=\"1\" class=\"dataframe\">\n",
       "  <thead>\n",
       "    <tr style=\"text-align: right;\">\n",
       "      <th></th>\n",
       "      <th>policy_id</th>\n",
       "      <th>agency_code</th>\n",
       "      <th>agent_code</th>\n",
       "      <th>product</th>\n",
       "      <th>policy_pending_status</th>\n",
       "      <th>document_uploaded</th>\n",
       "      <th>paid_by_echannel</th>\n",
       "    </tr>\n",
       "  </thead>\n",
       "  <tbody>\n",
       "    <tr>\n",
       "      <th>105135</th>\n",
       "      <td>105136</td>\n",
       "      <td>700</td>\n",
       "      <td>1448</td>\n",
       "      <td>ADD</td>\n",
       "      <td>FAILED</td>\n",
       "      <td>PASSED</td>\n",
       "      <td>Y</td>\n",
       "    </tr>\n",
       "    <tr>\n",
       "      <th>105136</th>\n",
       "      <td>105137</td>\n",
       "      <td>767</td>\n",
       "      <td>673</td>\n",
       "      <td>Life</td>\n",
       "      <td>FAILED</td>\n",
       "      <td>FAILED-DCK</td>\n",
       "      <td>Y</td>\n",
       "    </tr>\n",
       "  </tbody>\n",
       "</table>\n",
       "</div>"
      ],
      "text/plain": [
       "        policy_id  agency_code  agent_code product policy_pending_status  \\\n",
       "105135     105136          700        1448     ADD                FAILED   \n",
       "105136     105137          767         673    Life                FAILED   \n",
       "\n",
       "       document_uploaded paid_by_echannel  \n",
       "105135            PASSED                Y  \n",
       "105136        FAILED-DCK                Y  "
      ]
     },
     "metadata": {},
     "output_type": "display_data"
    },
    {
     "data": {
      "text/html": [
       "<div>\n",
       "<style scoped>\n",
       "    .dataframe tbody tr th:only-of-type {\n",
       "        vertical-align: middle;\n",
       "    }\n",
       "\n",
       "    .dataframe tbody tr th {\n",
       "        vertical-align: top;\n",
       "    }\n",
       "\n",
       "    .dataframe thead th {\n",
       "        text-align: right;\n",
       "    }\n",
       "</style>\n",
       "<table border=\"1\" class=\"dataframe\">\n",
       "  <thead>\n",
       "    <tr style=\"text-align: right;\">\n",
       "      <th></th>\n",
       "      <th>col</th>\n",
       "      <th>dtype</th>\n",
       "      <th>na_count</th>\n",
       "      <th>na_ratio</th>\n",
       "    </tr>\n",
       "  </thead>\n",
       "  <tbody>\n",
       "    <tr>\n",
       "      <th>0</th>\n",
       "      <td>policy_id</td>\n",
       "      <td>int64</td>\n",
       "      <td>0</td>\n",
       "      <td>0.000000</td>\n",
       "    </tr>\n",
       "    <tr>\n",
       "      <th>1</th>\n",
       "      <td>agency_code</td>\n",
       "      <td>int64</td>\n",
       "      <td>0</td>\n",
       "      <td>0.000000</td>\n",
       "    </tr>\n",
       "    <tr>\n",
       "      <th>2</th>\n",
       "      <td>agent_code</td>\n",
       "      <td>int64</td>\n",
       "      <td>0</td>\n",
       "      <td>0.000000</td>\n",
       "    </tr>\n",
       "    <tr>\n",
       "      <th>3</th>\n",
       "      <td>product</td>\n",
       "      <td>object</td>\n",
       "      <td>0</td>\n",
       "      <td>0.000000</td>\n",
       "    </tr>\n",
       "    <tr>\n",
       "      <th>4</th>\n",
       "      <td>policy_pending_status</td>\n",
       "      <td>object</td>\n",
       "      <td>4813</td>\n",
       "      <td>0.045778</td>\n",
       "    </tr>\n",
       "    <tr>\n",
       "      <th>5</th>\n",
       "      <td>document_uploaded</td>\n",
       "      <td>object</td>\n",
       "      <td>1251</td>\n",
       "      <td>0.011899</td>\n",
       "    </tr>\n",
       "    <tr>\n",
       "      <th>6</th>\n",
       "      <td>paid_by_echannel</td>\n",
       "      <td>object</td>\n",
       "      <td>0</td>\n",
       "      <td>0.000000</td>\n",
       "    </tr>\n",
       "  </tbody>\n",
       "</table>\n",
       "</div>"
      ],
      "text/plain": [
       "                     col   dtype  na_count  na_ratio\n",
       "0              policy_id   int64         0  0.000000\n",
       "1            agency_code   int64         0  0.000000\n",
       "2             agent_code   int64         0  0.000000\n",
       "3                product  object         0  0.000000\n",
       "4  policy_pending_status  object      4813  0.045778\n",
       "5      document_uploaded  object      1251  0.011899\n",
       "6       paid_by_echannel  object         0  0.000000"
      ]
     },
     "metadata": {},
     "output_type": "display_data"
    }
   ],
   "source": [
    "from src.utils import check_na\n",
    "display(df1.tail(2))\n",
    "display(check_na(df1))"
   ]
  },
  {
   "cell_type": "code",
   "execution_count": 5,
   "id": "435788ad",
   "metadata": {
    "ExecuteTime": {
     "end_time": "2022-02-24T12:06:34.169315Z",
     "start_time": "2022-02-24T12:06:34.146310Z"
    }
   },
   "outputs": [
    {
     "data": {
      "text/plain": [
       "FAILED    0.517354\n",
       "PASSED    0.436868\n",
       "          0.045778\n",
       "Name: policy_pending_status, dtype: float64"
      ]
     },
     "execution_count": 5,
     "metadata": {},
     "output_type": "execute_result"
    }
   ],
   "source": [
    "df1['policy_pending_status'].value_counts(normalize=True)"
   ]
  },
  {
   "cell_type": "code",
   "execution_count": 6,
   "id": "06216df7",
   "metadata": {
    "ExecuteTime": {
     "end_time": "2022-02-24T12:06:34.182319Z",
     "start_time": "2022-02-24T12:06:34.170317Z"
    }
   },
   "outputs": [
    {
     "data": {
      "text/plain": [
       "PASSED        0.762129\n",
       "FAILED-DCK    0.225972\n",
       "              0.011899\n",
       "Name: document_uploaded, dtype: float64"
      ]
     },
     "execution_count": 6,
     "metadata": {},
     "output_type": "execute_result"
    }
   ],
   "source": [
    "df1['document_uploaded'].value_counts(normalize=True)"
   ]
  },
  {
   "cell_type": "code",
   "execution_count": 7,
   "id": "b43d19e4",
   "metadata": {
    "ExecuteTime": {
     "end_time": "2022-02-24T12:06:34.196323Z",
     "start_time": "2022-02-24T12:06:34.184320Z"
    }
   },
   "outputs": [
    {
     "data": {
      "text/plain": [
       "Y    0.824714\n",
       "N    0.175286\n",
       "Name: paid_by_echannel, dtype: float64"
      ]
     },
     "execution_count": 7,
     "metadata": {},
     "output_type": "execute_result"
    }
   ],
   "source": [
    "df1['paid_by_echannel'].value_counts(normalize=True)"
   ]
  },
  {
   "cell_type": "code",
   "execution_count": 8,
   "id": "537471dc",
   "metadata": {
    "ExecuteTime": {
     "end_time": "2022-02-24T12:06:34.205323Z",
     "start_time": "2022-02-24T12:06:34.197323Z"
    }
   },
   "outputs": [
    {
     "data": {
      "text/plain": [
       "64      0.037599\n",
       "464     0.033204\n",
       "465     0.032225\n",
       "545     0.025861\n",
       "767     0.024596\n",
       "          ...   \n",
       "3265    0.000190\n",
       "779     0.000152\n",
       "4505    0.000086\n",
       "998     0.000086\n",
       "972     0.000010\n",
       "Name: agency_code, Length: 198, dtype: float64"
      ]
     },
     "execution_count": 8,
     "metadata": {},
     "output_type": "execute_result"
    }
   ],
   "source": [
    "df1['agency_code'].value_counts(normalize=True)"
   ]
  },
  {
   "cell_type": "code",
   "execution_count": 9,
   "id": "0b9f4aeb",
   "metadata": {
    "ExecuteTime": {
     "end_time": "2022-02-24T12:06:34.216326Z",
     "start_time": "2022-02-24T12:06:34.208326Z"
    }
   },
   "outputs": [
    {
     "data": {
      "text/plain": [
       "1204    0.003890\n",
       "550     0.002920\n",
       "1346    0.002682\n",
       "1493    0.002587\n",
       "1213    0.002435\n",
       "          ...   \n",
       "1304    0.000219\n",
       "1392    0.000190\n",
       "1520    0.000190\n",
       "791     0.000181\n",
       "1504    0.000181\n",
       "Name: agent_code, Length: 1000, dtype: float64"
      ]
     },
     "execution_count": 9,
     "metadata": {},
     "output_type": "execute_result"
    }
   ],
   "source": [
    "df1['agent_code'].value_counts(normalize=True)"
   ]
  },
  {
   "cell_type": "markdown",
   "id": "5d2f332b",
   "metadata": {},
   "source": [
    "#### product"
   ]
  },
  {
   "cell_type": "code",
   "execution_count": 10,
   "id": "9365fe1e",
   "metadata": {
    "ExecuteTime": {
     "end_time": "2022-02-24T12:06:34.391380Z",
     "start_time": "2022-02-24T12:06:34.218328Z"
    }
   },
   "outputs": [
    {
     "data": {
      "text/plain": [
       "Life        0.406666\n",
       "MEDI        0.198799\n",
       "ADD         0.188241\n",
       "5LPRRR5     0.058892\n",
       "Cancer      0.020594\n",
       "              ...   \n",
       "HS1MNJ      0.000008\n",
       "MODCISN5    0.000008\n",
       "HS1MNQ      0.000008\n",
       "HS1MNP      0.000008\n",
       "5PLVLCPS    0.000008\n",
       "Length: 114, dtype: float64"
      ]
     },
     "execution_count": 10,
     "metadata": {},
     "output_type": "execute_result"
    }
   ],
   "source": [
    "from src.utils import split_and_count\n",
    "split_and_count(df1['product'])"
   ]
  },
  {
   "cell_type": "markdown",
   "id": "17970290",
   "metadata": {},
   "source": [
    "### DF2"
   ]
  },
  {
   "cell_type": "code",
   "execution_count": 11,
   "id": "a96aa92e",
   "metadata": {
    "ExecuteTime": {
     "end_time": "2022-02-24T12:06:35.982785Z",
     "start_time": "2022-02-24T12:06:34.392374Z"
    }
   },
   "outputs": [
    {
     "data": {
      "text/html": [
       "<div>\n",
       "<style scoped>\n",
       "    .dataframe tbody tr th:only-of-type {\n",
       "        vertical-align: middle;\n",
       "    }\n",
       "\n",
       "    .dataframe tbody tr th {\n",
       "        vertical-align: top;\n",
       "    }\n",
       "\n",
       "    .dataframe thead th {\n",
       "        text-align: right;\n",
       "    }\n",
       "</style>\n",
       "<table border=\"1\" class=\"dataframe\">\n",
       "  <thead>\n",
       "    <tr style=\"text-align: right;\">\n",
       "      <th></th>\n",
       "      <th>policy_id</th>\n",
       "      <th>policy_owner_id</th>\n",
       "      <th>policy_insured_id</th>\n",
       "      <th>policy_pending_code</th>\n",
       "      <th>policy_application_date</th>\n",
       "      <th>policy_close_date</th>\n",
       "    </tr>\n",
       "  </thead>\n",
       "  <tbody>\n",
       "    <tr>\n",
       "      <th>98332</th>\n",
       "      <td>31781</td>\n",
       "      <td>9476.0</td>\n",
       "      <td>9476</td>\n",
       "      <td>NaN</td>\n",
       "      <td>2021-04-30</td>\n",
       "      <td>2021-04-30</td>\n",
       "    </tr>\n",
       "    <tr>\n",
       "      <th>98333</th>\n",
       "      <td>50802</td>\n",
       "      <td>2389.0</td>\n",
       "      <td>9389</td>\n",
       "      <td>55467:PU08:UU380:UU527:UX114</td>\n",
       "      <td>2021-05-07</td>\n",
       "      <td>2021-03-12</td>\n",
       "    </tr>\n",
       "  </tbody>\n",
       "</table>\n",
       "</div>"
      ],
      "text/plain": [
       "       policy_id  policy_owner_id  policy_insured_id  \\\n",
       "98332      31781           9476.0               9476   \n",
       "98333      50802           2389.0               9389   \n",
       "\n",
       "                policy_pending_code policy_application_date policy_close_date  \n",
       "98332                           NaN              2021-04-30        2021-04-30  \n",
       "98333  55467:PU08:UU380:UU527:UX114              2021-05-07        2021-03-12  "
      ]
     },
     "metadata": {},
     "output_type": "display_data"
    },
    {
     "data": {
      "text/html": [
       "<div>\n",
       "<style scoped>\n",
       "    .dataframe tbody tr th:only-of-type {\n",
       "        vertical-align: middle;\n",
       "    }\n",
       "\n",
       "    .dataframe tbody tr th {\n",
       "        vertical-align: top;\n",
       "    }\n",
       "\n",
       "    .dataframe thead th {\n",
       "        text-align: right;\n",
       "    }\n",
       "</style>\n",
       "<table border=\"1\" class=\"dataframe\">\n",
       "  <thead>\n",
       "    <tr style=\"text-align: right;\">\n",
       "      <th></th>\n",
       "      <th>col</th>\n",
       "      <th>dtype</th>\n",
       "      <th>na_count</th>\n",
       "      <th>na_ratio</th>\n",
       "    </tr>\n",
       "  </thead>\n",
       "  <tbody>\n",
       "    <tr>\n",
       "      <th>0</th>\n",
       "      <td>policy_id</td>\n",
       "      <td>int64</td>\n",
       "      <td>0</td>\n",
       "      <td>0.00000</td>\n",
       "    </tr>\n",
       "    <tr>\n",
       "      <th>1</th>\n",
       "      <td>policy_owner_id</td>\n",
       "      <td>float64</td>\n",
       "      <td>1</td>\n",
       "      <td>0.00001</td>\n",
       "    </tr>\n",
       "    <tr>\n",
       "      <th>2</th>\n",
       "      <td>policy_insured_id</td>\n",
       "      <td>int64</td>\n",
       "      <td>0</td>\n",
       "      <td>0.00000</td>\n",
       "    </tr>\n",
       "    <tr>\n",
       "      <th>3</th>\n",
       "      <td>policy_pending_code</td>\n",
       "      <td>object</td>\n",
       "      <td>45449</td>\n",
       "      <td>0.46219</td>\n",
       "    </tr>\n",
       "    <tr>\n",
       "      <th>4</th>\n",
       "      <td>policy_application_date</td>\n",
       "      <td>datetime64[ns]</td>\n",
       "      <td>0</td>\n",
       "      <td>0.00000</td>\n",
       "    </tr>\n",
       "    <tr>\n",
       "      <th>5</th>\n",
       "      <td>policy_close_date</td>\n",
       "      <td>datetime64[ns]</td>\n",
       "      <td>0</td>\n",
       "      <td>0.00000</td>\n",
       "    </tr>\n",
       "  </tbody>\n",
       "</table>\n",
       "</div>"
      ],
      "text/plain": [
       "                       col           dtype  na_count  na_ratio\n",
       "0                policy_id           int64         0   0.00000\n",
       "1          policy_owner_id         float64         1   0.00001\n",
       "2        policy_insured_id           int64         0   0.00000\n",
       "3      policy_pending_code          object     45449   0.46219\n",
       "4  policy_application_date  datetime64[ns]         0   0.00000\n",
       "5        policy_close_date  datetime64[ns]         0   0.00000"
      ]
     },
     "metadata": {},
     "output_type": "display_data"
    }
   ],
   "source": [
    "display(df2.tail(2))\n",
    "display(check_na(df2))"
   ]
  },
  {
   "cell_type": "markdown",
   "id": "7f331160",
   "metadata": {},
   "source": [
    "#### policy_pending_code"
   ]
  },
  {
   "cell_type": "code",
   "execution_count": 12,
   "id": "4ce234b0",
   "metadata": {
    "ExecuteTime": {
     "end_time": "2022-02-24T12:06:36.168835Z",
     "start_time": "2022-02-24T12:06:35.984788Z"
    }
   },
   "outputs": [
    {
     "data": {
      "text/plain": [
       "None     0.239369\n",
       "UU527    0.071164\n",
       "MEI04    0.070580\n",
       "PU08     0.065750\n",
       "UU380    0.038500\n",
       "           ...   \n",
       "55271    0.000005\n",
       "UX179    0.000005\n",
       "APPT     0.000005\n",
       "IDC      0.000005\n",
       "GDPRT    0.000005\n",
       "Length: 502, dtype: float64"
      ]
     },
     "execution_count": 12,
     "metadata": {},
     "output_type": "execute_result"
    }
   ],
   "source": [
    "split_and_count(df2['policy_pending_code'])"
   ]
  },
  {
   "cell_type": "markdown",
   "id": "6eedd4d7",
   "metadata": {},
   "source": [
    "### DF3"
   ]
  },
  {
   "cell_type": "code",
   "execution_count": 13,
   "id": "e2343267",
   "metadata": {
    "ExecuteTime": {
     "end_time": "2022-02-24T12:06:36.204842Z",
     "start_time": "2022-02-24T12:06:36.169838Z"
    }
   },
   "outputs": [
    {
     "data": {
      "text/html": [
       "<div>\n",
       "<style scoped>\n",
       "    .dataframe tbody tr th:only-of-type {\n",
       "        vertical-align: middle;\n",
       "    }\n",
       "\n",
       "    .dataframe tbody tr th {\n",
       "        vertical-align: top;\n",
       "    }\n",
       "\n",
       "    .dataframe thead th {\n",
       "        text-align: right;\n",
       "    }\n",
       "</style>\n",
       "<table border=\"1\" class=\"dataframe\">\n",
       "  <thead>\n",
       "    <tr style=\"text-align: right;\">\n",
       "      <th></th>\n",
       "      <th>owner_or_insured_id</th>\n",
       "      <th>Age</th>\n",
       "      <th>Gender</th>\n",
       "      <th>Education_Level</th>\n",
       "    </tr>\n",
       "  </thead>\n",
       "  <tbody>\n",
       "    <tr>\n",
       "      <th>10987</th>\n",
       "      <td>9018</td>\n",
       "      <td>64</td>\n",
       "      <td>F</td>\n",
       "      <td>Secondary</td>\n",
       "    </tr>\n",
       "    <tr>\n",
       "      <th>10988</th>\n",
       "      <td>9583</td>\n",
       "      <td>18</td>\n",
       "      <td>M</td>\n",
       "      <td>Primary_or_below</td>\n",
       "    </tr>\n",
       "  </tbody>\n",
       "</table>\n",
       "</div>"
      ],
      "text/plain": [
       "      owner_or_insured_id  Age Gender   Education_Level\n",
       "10987                9018   64      F         Secondary\n",
       "10988                9583   18      M  Primary_or_below"
      ]
     },
     "metadata": {},
     "output_type": "display_data"
    },
    {
     "data": {
      "text/html": [
       "<div>\n",
       "<style scoped>\n",
       "    .dataframe tbody tr th:only-of-type {\n",
       "        vertical-align: middle;\n",
       "    }\n",
       "\n",
       "    .dataframe tbody tr th {\n",
       "        vertical-align: top;\n",
       "    }\n",
       "\n",
       "    .dataframe thead th {\n",
       "        text-align: right;\n",
       "    }\n",
       "</style>\n",
       "<table border=\"1\" class=\"dataframe\">\n",
       "  <thead>\n",
       "    <tr style=\"text-align: right;\">\n",
       "      <th></th>\n",
       "      <th>col</th>\n",
       "      <th>dtype</th>\n",
       "      <th>na_count</th>\n",
       "      <th>na_ratio</th>\n",
       "    </tr>\n",
       "  </thead>\n",
       "  <tbody>\n",
       "    <tr>\n",
       "      <th>0</th>\n",
       "      <td>owner_or_insured_id</td>\n",
       "      <td>object</td>\n",
       "      <td>0</td>\n",
       "      <td>0.0</td>\n",
       "    </tr>\n",
       "    <tr>\n",
       "      <th>1</th>\n",
       "      <td>Age</td>\n",
       "      <td>int64</td>\n",
       "      <td>0</td>\n",
       "      <td>0.0</td>\n",
       "    </tr>\n",
       "    <tr>\n",
       "      <th>2</th>\n",
       "      <td>Gender</td>\n",
       "      <td>object</td>\n",
       "      <td>0</td>\n",
       "      <td>0.0</td>\n",
       "    </tr>\n",
       "    <tr>\n",
       "      <th>3</th>\n",
       "      <td>Education_Level</td>\n",
       "      <td>object</td>\n",
       "      <td>0</td>\n",
       "      <td>0.0</td>\n",
       "    </tr>\n",
       "  </tbody>\n",
       "</table>\n",
       "</div>"
      ],
      "text/plain": [
       "                   col   dtype  na_count  na_ratio\n",
       "0  owner_or_insured_id  object         0       0.0\n",
       "1                  Age   int64         0       0.0\n",
       "2               Gender  object         0       0.0\n",
       "3      Education_Level  object         0       0.0"
      ]
     },
     "metadata": {},
     "output_type": "display_data"
    }
   ],
   "source": [
    "display(df3.tail(2))\n",
    "display(check_na(df3))"
   ]
  },
  {
   "cell_type": "code",
   "execution_count": 14,
   "id": "231dd48b",
   "metadata": {
    "ExecuteTime": {
     "end_time": "2022-02-24T12:06:36.539919Z",
     "start_time": "2022-02-24T12:06:36.206839Z"
    }
   },
   "outputs": [
    {
     "data": {
      "text/plain": [
       "<seaborn.axisgrid.FacetGrid at 0x14de0650af0>"
      ]
     },
     "execution_count": 14,
     "metadata": {},
     "output_type": "execute_result"
    },
    {
     "data": {
      "image/png": "[encoded data removed]",
      "text/plain": [
       "<Figure size 360x360 with 1 Axes>"
      ]
     },
     "metadata": {},
     "output_type": "display_data"
    }
   ],
   "source": [
    "sns.displot(df3['Age'])"
   ]
  },
  {
   "cell_type": "code",
   "execution_count": 15,
   "id": "66358b45",
   "metadata": {
    "ExecuteTime": {
     "end_time": "2022-02-24T12:06:36.547921Z",
     "start_time": "2022-02-24T12:06:36.540925Z"
    }
   },
   "outputs": [
    {
     "data": {
      "text/plain": [
       "F    0.501047\n",
       "M    0.498953\n",
       "Name: Gender, dtype: float64"
      ]
     },
     "execution_count": 15,
     "metadata": {},
     "output_type": "execute_result"
    }
   ],
   "source": [
    "df3['Gender'].value_counts(normalize=True)"
   ]
  },
  {
   "cell_type": "code",
   "execution_count": 16,
   "id": "89e9d29b",
   "metadata": {
    "ExecuteTime": {
     "end_time": "2022-02-24T12:06:36.557931Z",
     "start_time": "2022-02-24T12:06:36.548929Z"
    }
   },
   "outputs": [
    {
     "data": {
      "text/plain": [
       "Primary_or_below    0.337519\n",
       "Tertiary            0.331695\n",
       "Secondary           0.330785\n",
       "Name: Education_Level, dtype: float64"
      ]
     },
     "execution_count": 16,
     "metadata": {},
     "output_type": "execute_result"
    }
   ],
   "source": [
    "df3['Education_Level'].value_counts(normalize=True)"
   ]
  },
  {
   "cell_type": "markdown",
   "id": "fbad660d",
   "metadata": {},
   "source": [
    "#### Duplicate ID?"
   ]
  },
  {
   "cell_type": "code",
   "execution_count": 17,
   "id": "274c3cd4",
   "metadata": {
    "ExecuteTime": {
     "end_time": "2022-02-24T12:06:36.572919Z",
     "start_time": "2022-02-24T12:06:36.558919Z"
    }
   },
   "outputs": [
    {
     "data": {
      "text/plain": [
       "0.1"
      ]
     },
     "execution_count": 17,
     "metadata": {},
     "output_type": "execute_result"
    }
   ],
   "source": [
    "id_count = df3['owner_or_insured_id'].value_counts()\n",
    "(id_count >= 2).sum() / id_count.size"
   ]
  },
  {
   "cell_type": "markdown",
   "id": "146f1433",
   "metadata": {},
   "source": [
    "#### non_numerial values"
   ]
  },
  {
   "cell_type": "code",
   "execution_count": 18,
   "id": "a57b57ad",
   "metadata": {
    "ExecuteTime": {
     "end_time": "2022-02-24T12:06:36.599925Z",
     "start_time": "2022-02-24T12:06:36.573919Z"
    }
   },
   "outputs": [
    {
     "data": {
      "text/html": [
       "<div>\n",
       "<style scoped>\n",
       "    .dataframe tbody tr th:only-of-type {\n",
       "        vertical-align: middle;\n",
       "    }\n",
       "\n",
       "    .dataframe tbody tr th {\n",
       "        vertical-align: top;\n",
       "    }\n",
       "\n",
       "    .dataframe thead th {\n",
       "        text-align: right;\n",
       "    }\n",
       "</style>\n",
       "<table border=\"1\" class=\"dataframe\">\n",
       "  <thead>\n",
       "    <tr style=\"text-align: right;\">\n",
       "      <th></th>\n",
       "      <th>owner_or_insured_id</th>\n",
       "      <th>Age</th>\n",
       "      <th>Gender</th>\n",
       "      <th>Education_Level</th>\n",
       "    </tr>\n",
       "  </thead>\n",
       "  <tbody>\n",
       "    <tr>\n",
       "      <th>9725</th>\n",
       "      <td>#VALUE!</td>\n",
       "      <td>51</td>\n",
       "      <td>M</td>\n",
       "      <td>Tertiary</td>\n",
       "    </tr>\n",
       "  </tbody>\n",
       "</table>\n",
       "</div>"
      ],
      "text/plain": [
       "     owner_or_insured_id  Age Gender Education_Level\n",
       "9725             #VALUE!   51      M        Tertiary"
      ]
     },
     "execution_count": 18,
     "metadata": {},
     "output_type": "execute_result"
    }
   ],
   "source": [
    "mask = df3['owner_or_insured_id'].str.replace(\"[0-9]\", '', regex=True).str.len() >0\n",
    "df3[mask]"
   ]
  },
  {
   "cell_type": "markdown",
   "id": "906e5ff0",
   "metadata": {},
   "source": [
    "### Days_delta"
   ]
  },
  {
   "cell_type": "code",
   "execution_count": 19,
   "id": "95941fe8",
   "metadata": {
    "ExecuteTime": {
     "end_time": "2022-02-24T12:06:37.669292Z",
     "start_time": "2022-02-24T12:06:36.600927Z"
    }
   },
   "outputs": [
    {
     "data": {
      "text/plain": [
       "<AxesSubplot:ylabel='Density'>"
      ]
     },
     "execution_count": 19,
     "metadata": {},
     "output_type": "execute_result"
    },
    {
     "data": {
      "image/png": "[encoded data removed]",
      "text/plain": [
       "<Figure size 432x288 with 1 Axes>"
      ]
     },
     "metadata": {},
     "output_type": "display_data"
    }
   ],
   "source": [
    "days = (df2['policy_close_date'] - df2['policy_application_date']).dt.days\n",
    "sns.kdeplot(days)"
   ]
  },
  {
   "cell_type": "code",
   "execution_count": 20,
   "id": "a83bae8a",
   "metadata": {
    "ExecuteTime": {
     "end_time": "2022-02-24T12:06:37.676164Z",
     "start_time": "2022-02-24T12:06:37.670290Z"
    }
   },
   "outputs": [
    {
     "data": {
      "text/plain": [
       "array([ 2.,  5., 13., 70.])"
      ]
     },
     "execution_count": 20,
     "metadata": {},
     "output_type": "execute_result"
    }
   ],
   "source": [
    "np.percentile(days, [25, 50, 75, 95])"
   ]
  },
  {
   "cell_type": "code",
   "execution_count": 21,
   "id": "b37b03b6",
   "metadata": {
    "ExecuteTime": {
     "end_time": "2022-02-24T12:06:37.683166Z",
     "start_time": "2022-02-24T12:06:37.677163Z"
    }
   },
   "outputs": [
    {
     "data": {
      "text/plain": [
       "0.00021355787418390383"
      ]
     },
     "execution_count": 21,
     "metadata": {},
     "output_type": "execute_result"
    }
   ],
   "source": [
    "(days <0).sum() / days.size"
   ]
  },
  {
   "cell_type": "code",
   "execution_count": 22,
   "id": "dd31e10b",
   "metadata": {
    "ExecuteTime": {
     "end_time": "2022-02-24T12:06:37.690165Z",
     "start_time": "2022-02-24T12:06:37.684165Z"
    }
   },
   "outputs": [],
   "source": [
    "df2['days'] = days"
   ]
  },
  {
   "cell_type": "markdown",
   "id": "96fde8df",
   "metadata": {},
   "source": [
    "### Summary"
   ]
  },
  {
   "cell_type": "markdown",
   "id": "a785a210",
   "metadata": {},
   "source": [
    "df1中的policy_pending_status, document_uploaded两个feature存在少量缺失(4%以下)，在下一步清洗中可以直接删除<br>\n",
    "df1中的agent_code和agency_code均存在大量类别，但agent_code中含有多个比例在3%左右类别，而agenecy_code比例最高也仅有0.3%左右，因此agenet_code可以作为类别型变量保留，但agency_code不能<br>\n",
    "df2中的policy_pending_code存在约50%的空白，在下一步清洗中应当用'Unknown'填补<br>\n",
    "df3中的Age字段范围正常，Gender和Education_Level两个feature也是正常的类别型feature，且各个类别的频率均比较接近，下一步可以直接进行one-hot编码<br>\n",
    "df2的policy_pending_code和df1的product均为多个类别拼接而成，考虑后续进行主题模型分解<br>\n",
    "df3的owner_or_insured_id存在10%的重复id，在下一步考虑直接移除重复.还需要移除非数字类值<br>\n",
    "df2的两个个日期间隔存在少量负数需要移除。另外间隔的中位数为5天，为简便起见，将“日期是否大于5天”作为需要拟合的二分类特征"
   ]
  },
  {
   "cell_type": "markdown",
   "id": "1d3ad6b0",
   "metadata": {},
   "source": [
    "## Cleaning"
   ]
  },
  {
   "cell_type": "markdown",
   "id": "9ad196cd",
   "metadata": {},
   "source": [
    "### DF1 移除少量空缺 整理product列格式"
   ]
  },
  {
   "cell_type": "code",
   "execution_count": 23,
   "id": "50c75507",
   "metadata": {
    "ExecuteTime": {
     "end_time": "2022-02-24T12:06:38.182293Z",
     "start_time": "2022-02-24T12:06:37.691166Z"
    }
   },
   "outputs": [
    {
     "data": {
      "text/html": [
       "<div>\n",
       "<style scoped>\n",
       "    .dataframe tbody tr th:only-of-type {\n",
       "        vertical-align: middle;\n",
       "    }\n",
       "\n",
       "    .dataframe tbody tr th {\n",
       "        vertical-align: top;\n",
       "    }\n",
       "\n",
       "    .dataframe thead th {\n",
       "        text-align: right;\n",
       "    }\n",
       "</style>\n",
       "<table border=\"1\" class=\"dataframe\">\n",
       "  <thead>\n",
       "    <tr style=\"text-align: right;\">\n",
       "      <th></th>\n",
       "      <th>col</th>\n",
       "      <th>dtype</th>\n",
       "      <th>na_count</th>\n",
       "      <th>na_ratio</th>\n",
       "    </tr>\n",
       "  </thead>\n",
       "  <tbody>\n",
       "    <tr>\n",
       "      <th>0</th>\n",
       "      <td>policy_id</td>\n",
       "      <td>int64</td>\n",
       "      <td>0</td>\n",
       "      <td>0.0</td>\n",
       "    </tr>\n",
       "    <tr>\n",
       "      <th>1</th>\n",
       "      <td>agency_code</td>\n",
       "      <td>int64</td>\n",
       "      <td>0</td>\n",
       "      <td>0.0</td>\n",
       "    </tr>\n",
       "    <tr>\n",
       "      <th>2</th>\n",
       "      <td>agent_code</td>\n",
       "      <td>int64</td>\n",
       "      <td>0</td>\n",
       "      <td>0.0</td>\n",
       "    </tr>\n",
       "    <tr>\n",
       "      <th>3</th>\n",
       "      <td>product</td>\n",
       "      <td>object</td>\n",
       "      <td>0</td>\n",
       "      <td>0.0</td>\n",
       "    </tr>\n",
       "    <tr>\n",
       "      <th>4</th>\n",
       "      <td>policy_pending_status</td>\n",
       "      <td>object</td>\n",
       "      <td>0</td>\n",
       "      <td>0.0</td>\n",
       "    </tr>\n",
       "    <tr>\n",
       "      <th>5</th>\n",
       "      <td>document_uploaded</td>\n",
       "      <td>object</td>\n",
       "      <td>0</td>\n",
       "      <td>0.0</td>\n",
       "    </tr>\n",
       "    <tr>\n",
       "      <th>6</th>\n",
       "      <td>paid_by_echannel</td>\n",
       "      <td>object</td>\n",
       "      <td>0</td>\n",
       "      <td>0.0</td>\n",
       "    </tr>\n",
       "  </tbody>\n",
       "</table>\n",
       "</div>"
      ],
      "text/plain": [
       "                     col   dtype  na_count  na_ratio\n",
       "0              policy_id   int64         0       0.0\n",
       "1            agency_code   int64         0       0.0\n",
       "2             agent_code   int64         0       0.0\n",
       "3                product  object         0       0.0\n",
       "4  policy_pending_status  object         0       0.0\n",
       "5      document_uploaded  object         0       0.0\n",
       "6       paid_by_echannel  object         0       0.0"
      ]
     },
     "execution_count": 23,
     "metadata": {},
     "output_type": "execute_result"
    }
   ],
   "source": [
    "mask1 = df1['policy_pending_status'].isnull() | (df1['policy_pending_status'].str.replace(\" \", '') == '')\n",
    "mask2 = df1['document_uploaded'].isnull() | (df1['document_uploaded'].str.replace(\" \", '') == '')\n",
    "mask = mask1 | mask2\n",
    "df1_cleaned = df1.loc[~mask, :].assign(product=lambda x: x['product'].fillna('None'))\n",
    "check_na(df1_cleaned)"
   ]
  },
  {
   "cell_type": "markdown",
   "id": "49a88644",
   "metadata": {},
   "source": [
    "### DF2 填补policy_pending 移除日期为负数的行"
   ]
  },
  {
   "cell_type": "code",
   "execution_count": 24,
   "id": "6c6ec115",
   "metadata": {
    "ExecuteTime": {
     "end_time": "2022-02-24T12:06:39.857111Z",
     "start_time": "2022-02-24T12:06:38.184281Z"
    }
   },
   "outputs": [
    {
     "data": {
      "text/html": [
       "<div>\n",
       "<style scoped>\n",
       "    .dataframe tbody tr th:only-of-type {\n",
       "        vertical-align: middle;\n",
       "    }\n",
       "\n",
       "    .dataframe tbody tr th {\n",
       "        vertical-align: top;\n",
       "    }\n",
       "\n",
       "    .dataframe thead th {\n",
       "        text-align: right;\n",
       "    }\n",
       "</style>\n",
       "<table border=\"1\" class=\"dataframe\">\n",
       "  <thead>\n",
       "    <tr style=\"text-align: right;\">\n",
       "      <th></th>\n",
       "      <th>col</th>\n",
       "      <th>dtype</th>\n",
       "      <th>na_count</th>\n",
       "      <th>na_ratio</th>\n",
       "    </tr>\n",
       "  </thead>\n",
       "  <tbody>\n",
       "    <tr>\n",
       "      <th>0</th>\n",
       "      <td>policy_id</td>\n",
       "      <td>int64</td>\n",
       "      <td>0</td>\n",
       "      <td>0.0</td>\n",
       "    </tr>\n",
       "    <tr>\n",
       "      <th>1</th>\n",
       "      <td>policy_owner_id</td>\n",
       "      <td>int32</td>\n",
       "      <td>0</td>\n",
       "      <td>0.0</td>\n",
       "    </tr>\n",
       "    <tr>\n",
       "      <th>2</th>\n",
       "      <td>policy_insured_id</td>\n",
       "      <td>int64</td>\n",
       "      <td>0</td>\n",
       "      <td>0.0</td>\n",
       "    </tr>\n",
       "    <tr>\n",
       "      <th>3</th>\n",
       "      <td>policy_pending_code</td>\n",
       "      <td>object</td>\n",
       "      <td>0</td>\n",
       "      <td>0.0</td>\n",
       "    </tr>\n",
       "    <tr>\n",
       "      <th>4</th>\n",
       "      <td>policy_application_date</td>\n",
       "      <td>datetime64[ns]</td>\n",
       "      <td>0</td>\n",
       "      <td>0.0</td>\n",
       "    </tr>\n",
       "    <tr>\n",
       "      <th>5</th>\n",
       "      <td>policy_close_date</td>\n",
       "      <td>datetime64[ns]</td>\n",
       "      <td>0</td>\n",
       "      <td>0.0</td>\n",
       "    </tr>\n",
       "    <tr>\n",
       "      <th>6</th>\n",
       "      <td>days</td>\n",
       "      <td>int64</td>\n",
       "      <td>0</td>\n",
       "      <td>0.0</td>\n",
       "    </tr>\n",
       "  </tbody>\n",
       "</table>\n",
       "</div>"
      ],
      "text/plain": [
       "                       col           dtype  na_count  na_ratio\n",
       "0                policy_id           int64         0       0.0\n",
       "1          policy_owner_id           int32         0       0.0\n",
       "2        policy_insured_id           int64         0       0.0\n",
       "3      policy_pending_code          object         0       0.0\n",
       "4  policy_application_date  datetime64[ns]         0       0.0\n",
       "5        policy_close_date  datetime64[ns]         0       0.0\n",
       "6                     days           int64         0       0.0"
      ]
     },
     "execution_count": 24,
     "metadata": {},
     "output_type": "execute_result"
    }
   ],
   "source": [
    "mask = df2['policy_owner_id'].isnull() | (df2['days'] < 0)\n",
    "df2_cleaned = df2.loc[~mask, :].assign(policy_pending_code=lambda x: x['policy_pending_code'].fillna('None'), \n",
    "                                       policy_owner_id=lambda x: x['policy_owner_id'].astype(int))\n",
    "check_na(df2_cleaned)"
   ]
  },
  {
   "cell_type": "markdown",
   "id": "4f56ae53",
   "metadata": {
    "ExecuteTime": {
     "end_time": "2022-02-24T06:54:24.386520Z",
     "start_time": "2022-02-24T06:54:24.376509Z"
    }
   },
   "source": [
    "### DF3 移除重复id，移除非数字类值"
   ]
  },
  {
   "cell_type": "code",
   "execution_count": 25,
   "id": "fb534666",
   "metadata": {
    "ExecuteTime": {
     "end_time": "2022-02-24T12:06:39.884117Z",
     "start_time": "2022-02-24T12:06:39.858103Z"
    }
   },
   "outputs": [],
   "source": [
    "df3_cleaned = df3.drop_duplicates(subset='owner_or_insured_id')\n",
    "mask = df3['owner_or_insured_id'].str.replace(\"[0-9]\", '', regex=True).str.len() >0\n",
    "df3_cleaned = df3_cleaned.loc[~mask, :].assign(owner_or_insured_id=lambda x: x['owner_or_insured_id'].astype(int))"
   ]
  },
  {
   "cell_type": "markdown",
   "id": "e9cd6a76",
   "metadata": {},
   "source": [
    "## Merge"
   ]
  },
  {
   "cell_type": "markdown",
   "id": "00dccbac",
   "metadata": {},
   "source": [
    "### DF2 + DF1"
   ]
  },
  {
   "cell_type": "code",
   "execution_count": 26,
   "id": "c47fea76",
   "metadata": {
    "ExecuteTime": {
     "end_time": "2022-02-24T12:06:39.938122Z",
     "start_time": "2022-02-24T12:06:39.885105Z"
    }
   },
   "outputs": [
    {
     "data": {
      "text/plain": [
       "(97347, 13)"
      ]
     },
     "execution_count": 26,
     "metadata": {},
     "output_type": "execute_result"
    }
   ],
   "source": [
    "# df2 + df1\n",
    "df_merge = df2_cleaned.merge(df1_cleaned, how='inner', on='policy_id')\n",
    "df_merge.shape"
   ]
  },
  {
   "cell_type": "markdown",
   "id": "751e6dbe",
   "metadata": {
    "ExecuteTime": {
     "end_time": "2022-02-24T07:09:52.309767Z",
     "start_time": "2022-02-24T07:09:52.298764Z"
    }
   },
   "source": [
    "### DF2 + DF3 first via owner_id then insured_id"
   ]
  },
  {
   "cell_type": "code",
   "execution_count": 27,
   "id": "62942bf7",
   "metadata": {
    "ExecuteTime": {
     "end_time": "2022-02-24T12:06:40.211184Z",
     "start_time": "2022-02-24T12:06:39.939118Z"
    }
   },
   "outputs": [],
   "source": [
    "df_merge_1 = df_merge.merge(df3_cleaned, how='inner', \n",
    "                            left_on='policy_owner_id', right_on='owner_or_insured_id')\n",
    "df_merge_2 = df_merge.merge(df3_cleaned, how='inner', \n",
    "                            left_on='policy_insured_id', right_on='owner_or_insured_id')\n",
    "df_merge_final = pd.concat([df_merge_1, df_merge_2], axis=0)\\\n",
    "    .drop_duplicates(subset=df_merge.columns, keep='first')"
   ]
  },
  {
   "cell_type": "code",
   "execution_count": 28,
   "id": "209ac359",
   "metadata": {
    "ExecuteTime": {
     "end_time": "2022-02-24T12:06:40.224831Z",
     "start_time": "2022-02-24T12:06:40.212184Z"
    }
   },
   "outputs": [
    {
     "data": {
      "text/html": [
       "<div>\n",
       "<style scoped>\n",
       "    .dataframe tbody tr th:only-of-type {\n",
       "        vertical-align: middle;\n",
       "    }\n",
       "\n",
       "    .dataframe tbody tr th {\n",
       "        vertical-align: top;\n",
       "    }\n",
       "\n",
       "    .dataframe thead th {\n",
       "        text-align: right;\n",
       "    }\n",
       "</style>\n",
       "<table border=\"1\" class=\"dataframe\">\n",
       "  <thead>\n",
       "    <tr style=\"text-align: right;\">\n",
       "      <th></th>\n",
       "      <th>policy_id</th>\n",
       "      <th>policy_owner_id</th>\n",
       "      <th>policy_insured_id</th>\n",
       "      <th>policy_pending_code</th>\n",
       "      <th>policy_application_date</th>\n",
       "      <th>policy_close_date</th>\n",
       "      <th>days</th>\n",
       "      <th>agency_code</th>\n",
       "      <th>agent_code</th>\n",
       "      <th>product</th>\n",
       "      <th>policy_pending_status</th>\n",
       "      <th>document_uploaded</th>\n",
       "      <th>paid_by_echannel</th>\n",
       "      <th>owner_or_insured_id</th>\n",
       "      <th>Age</th>\n",
       "      <th>Gender</th>\n",
       "      <th>Education_Level</th>\n",
       "    </tr>\n",
       "  </thead>\n",
       "  <tbody>\n",
       "    <tr>\n",
       "      <th>97342</th>\n",
       "      <td>73866</td>\n",
       "      <td>6767</td>\n",
       "      <td>9767</td>\n",
       "      <td>PR17:UU722:UU722:UU722:UU722</td>\n",
       "      <td>2021-04-26</td>\n",
       "      <td>2021-04-27</td>\n",
       "      <td>1</td>\n",
       "      <td>877</td>\n",
       "      <td>986</td>\n",
       "      <td>ERP223N6:Life</td>\n",
       "      <td>FAILED</td>\n",
       "      <td>PASSED</td>\n",
       "      <td>Y</td>\n",
       "      <td>6767</td>\n",
       "      <td>22</td>\n",
       "      <td>M</td>\n",
       "      <td>Primary_or_below</td>\n",
       "    </tr>\n",
       "    <tr>\n",
       "      <th>97343</th>\n",
       "      <td>67859</td>\n",
       "      <td>6767</td>\n",
       "      <td>9767</td>\n",
       "      <td>UU722:UU722:UU722:UU722</td>\n",
       "      <td>2021-04-27</td>\n",
       "      <td>2021-04-29</td>\n",
       "      <td>2</td>\n",
       "      <td>877</td>\n",
       "      <td>986</td>\n",
       "      <td>Life</td>\n",
       "      <td>PASSED</td>\n",
       "      <td>PASSED</td>\n",
       "      <td>Y</td>\n",
       "      <td>6767</td>\n",
       "      <td>22</td>\n",
       "      <td>M</td>\n",
       "      <td>Primary_or_below</td>\n",
       "    </tr>\n",
       "    <tr>\n",
       "      <th>97344</th>\n",
       "      <td>13180</td>\n",
       "      <td>7401</td>\n",
       "      <td>9401</td>\n",
       "      <td>PU08:UU380:UU527:UU608:UU769</td>\n",
       "      <td>2021-04-27</td>\n",
       "      <td>2021-04-28</td>\n",
       "      <td>1</td>\n",
       "      <td>866</td>\n",
       "      <td>1510</td>\n",
       "      <td>Life</td>\n",
       "      <td>FAILED</td>\n",
       "      <td>PASSED</td>\n",
       "      <td>Y</td>\n",
       "      <td>7401</td>\n",
       "      <td>24</td>\n",
       "      <td>M</td>\n",
       "      <td>Primary_or_below</td>\n",
       "    </tr>\n",
       "    <tr>\n",
       "      <th>97345</th>\n",
       "      <td>21531</td>\n",
       "      <td>8007</td>\n",
       "      <td>9007</td>\n",
       "      <td>UU244</td>\n",
       "      <td>2021-04-29</td>\n",
       "      <td>2021-04-30</td>\n",
       "      <td>1</td>\n",
       "      <td>464</td>\n",
       "      <td>749</td>\n",
       "      <td>MOEYRNN5</td>\n",
       "      <td>FAILED</td>\n",
       "      <td>PASSED</td>\n",
       "      <td>Y</td>\n",
       "      <td>8007</td>\n",
       "      <td>62</td>\n",
       "      <td>M</td>\n",
       "      <td>Tertiary</td>\n",
       "    </tr>\n",
       "    <tr>\n",
       "      <th>97346</th>\n",
       "      <td>77437</td>\n",
       "      <td>8007</td>\n",
       "      <td>9007</td>\n",
       "      <td>None</td>\n",
       "      <td>2021-04-29</td>\n",
       "      <td>2021-04-30</td>\n",
       "      <td>1</td>\n",
       "      <td>462</td>\n",
       "      <td>1341</td>\n",
       "      <td>Life</td>\n",
       "      <td>PASSED</td>\n",
       "      <td>PASSED</td>\n",
       "      <td>Y</td>\n",
       "      <td>8007</td>\n",
       "      <td>62</td>\n",
       "      <td>M</td>\n",
       "      <td>Tertiary</td>\n",
       "    </tr>\n",
       "  </tbody>\n",
       "</table>\n",
       "</div>"
      ],
      "text/plain": [
       "       policy_id  policy_owner_id  policy_insured_id  \\\n",
       "97342      73866             6767               9767   \n",
       "97343      67859             6767               9767   \n",
       "97344      13180             7401               9401   \n",
       "97345      21531             8007               9007   \n",
       "97346      77437             8007               9007   \n",
       "\n",
       "                policy_pending_code policy_application_date policy_close_date  \\\n",
       "97342  PR17:UU722:UU722:UU722:UU722              2021-04-26        2021-04-27   \n",
       "97343       UU722:UU722:UU722:UU722              2021-04-27        2021-04-29   \n",
       "97344  PU08:UU380:UU527:UU608:UU769              2021-04-27        2021-04-28   \n",
       "97345                         UU244              2021-04-29        2021-04-30   \n",
       "97346                          None              2021-04-29        2021-04-30   \n",
       "\n",
       "       days  agency_code  agent_code        product policy_pending_status  \\\n",
       "97342     1          877         986  ERP223N6:Life                FAILED   \n",
       "97343     2          877         986           Life                PASSED   \n",
       "97344     1          866        1510           Life                FAILED   \n",
       "97345     1          464         749       MOEYRNN5                FAILED   \n",
       "97346     1          462        1341           Life                PASSED   \n",
       "\n",
       "      document_uploaded paid_by_echannel  owner_or_insured_id  Age Gender  \\\n",
       "97342            PASSED                Y                 6767   22      M   \n",
       "97343            PASSED                Y                 6767   22      M   \n",
       "97344            PASSED                Y                 7401   24      M   \n",
       "97345            PASSED                Y                 8007   62      M   \n",
       "97346            PASSED                Y                 8007   62      M   \n",
       "\n",
       "        Education_Level  \n",
       "97342  Primary_or_below  \n",
       "97343  Primary_or_below  \n",
       "97344  Primary_or_below  \n",
       "97345          Tertiary  \n",
       "97346          Tertiary  "
      ]
     },
     "execution_count": 28,
     "metadata": {},
     "output_type": "execute_result"
    }
   ],
   "source": [
    "df_merge_final.tail()"
   ]
  },
  {
   "cell_type": "markdown",
   "id": "fb0d7992",
   "metadata": {},
   "source": [
    "# Feature Engeering - Pre_split"
   ]
  },
  {
   "cell_type": "markdown",
   "id": "c4bc2a37",
   "metadata": {},
   "source": [
    "## One-hot"
   ]
  },
  {
   "cell_type": "code",
   "execution_count": 29,
   "id": "c131dba4",
   "metadata": {
    "ExecuteTime": {
     "end_time": "2022-02-24T12:06:40.281578Z",
     "start_time": "2022-02-24T12:06:40.226181Z"
    }
   },
   "outputs": [],
   "source": [
    "df = df_merge_final.copy()\n",
    "df['days'] = (df['days'] > 5).astype(int)\n",
    "df['policy_pending_status'] = df['policy_pending_status'].map({'FAILED': 0, 'PASSED': 1})\n",
    "df['document_uploaded'] = df['document_uploaded'].map({'PASSED': 1, 'FAILED-DCK': 0})\n",
    "df['paid_by_echannel'] = df['paid_by_echannel'].map({'Y': 1, 'N': 0})\n",
    "df['Gender'] = df['Gender'].map({'M': 1, 'F': 0})"
   ]
  },
  {
   "cell_type": "markdown",
   "id": "963c2a4f",
   "metadata": {},
   "source": [
    "## Ordinal Features"
   ]
  },
  {
   "cell_type": "code",
   "execution_count": 30,
   "id": "adc174f1",
   "metadata": {
    "ExecuteTime": {
     "end_time": "2022-02-24T12:06:40.295563Z",
     "start_time": "2022-02-24T12:06:40.283558Z"
    }
   },
   "outputs": [],
   "source": [
    "df['Education_Level'] = df['Education_Level'].map({\n",
    "    'Primary_or_below': 1,\n",
    "    'Secondary': 2,\n",
    "    'Tertiary': 3\n",
    "})"
   ]
  },
  {
   "cell_type": "markdown",
   "id": "c1e0898e",
   "metadata": {},
   "source": [
    "## time encoding"
   ]
  },
  {
   "cell_type": "code",
   "execution_count": 31,
   "id": "287fb005",
   "metadata": {
    "ExecuteTime": {
     "end_time": "2022-02-24T12:06:40.330584Z",
     "start_time": "2022-02-24T12:06:40.296561Z"
    }
   },
   "outputs": [],
   "source": [
    "df['app_month_sin'] = np.sin(df['policy_application_date'].dt.month / 12 * 2 * np.pi)\n",
    "df['app_month_cos'] = np.cos(df['policy_application_date'].dt.month / 12 * 2 * np.pi)\n",
    "df['close_month_sin'] = np.sin(df['policy_close_date'].dt.month / 12 * 2 * np.pi)\n",
    "df['close_month_cos'] = np.cos(df['policy_close_date'].dt.month / 12 * 2 * np.pi)"
   ]
  },
  {
   "cell_type": "markdown",
   "id": "ebabf64f",
   "metadata": {},
   "source": [
    "## replace ':' with ' '"
   ]
  },
  {
   "cell_type": "code",
   "execution_count": 32,
   "id": "1ecf9918",
   "metadata": {
    "ExecuteTime": {
     "end_time": "2022-02-24T12:06:40.399600Z",
     "start_time": "2022-02-24T12:06:40.331578Z"
    }
   },
   "outputs": [],
   "source": [
    "df['product'] = df['product'].str.replace(':', ' ')\n",
    "df['policy_pending_code'] = df['policy_pending_code'].str.replace(':', ' ')"
   ]
  },
  {
   "cell_type": "markdown",
   "id": "ced1226b",
   "metadata": {
    "ExecuteTime": {
     "end_time": "2022-02-24T12:06:59.401274Z",
     "start_time": "2022-02-24T12:06:59.383270Z"
    }
   },
   "source": [
    "# save data"
   ]
  },
  {
   "cell_type": "code",
   "execution_count": 39,
   "id": "c4bb3655",
   "metadata": {
    "ExecuteTime": {
     "end_time": "2022-02-24T12:08:08.659704Z",
     "start_time": "2022-02-24T12:08:06.709612Z"
    }
   },
   "outputs": [],
   "source": [
    "df.to_csv('data/intermediate/data.csv', index=False)"
   ]
  },
  {
   "cell_type": "markdown",
   "id": "4ec6b650",
   "metadata": {},
   "source": [
    "# Pipeline: TopicModel -> Lightgbm"
   ]
  },
  {
   "cell_type": "code",
   "execution_count": 40,
   "id": "5ecdadaa",
   "metadata": {
    "ExecuteTime": {
     "end_time": "2022-02-24T12:09:37.810182Z",
     "start_time": "2022-02-24T12:09:37.615078Z"
    }
   },
   "outputs": [],
   "source": [
    "df = pd.read_csv('data/intermediate/data.csv')"
   ]
  },
  {
   "cell_type": "code",
   "execution_count": 112,
   "id": "9f3190c3",
   "metadata": {
    "ExecuteTime": {
     "end_time": "2022-02-24T14:46:33.292775Z",
     "start_time": "2022-02-24T14:46:32.885668Z"
    }
   },
   "outputs": [],
   "source": [
    "map_product = {value: idx for idx, value in\n",
    "enumerate(split_and_count(df['product'], sep=' ').index.str.lower().sort_values())\n",
    "}\n",
    "map_policy = {value: idx for idx, value in\n",
    "enumerate(split_and_count(df['policy_pending_code'], sep=' ').index.str.lower().sort_values())\n",
    "}"
   ]
  },
  {
   "cell_type": "code",
   "execution_count": 116,
   "id": "71d71bde",
   "metadata": {
    "ExecuteTime": {
     "end_time": "2022-02-24T14:47:29.913994Z",
     "start_time": "2022-02-24T14:47:29.910000Z"
    }
   },
   "outputs": [],
   "source": [
    "from src.utils import TopicEncoder\n",
    "from sklearn.compose import ColumnTransformer\n",
    "from sklearn.pipeline import Pipeline\n",
    "from lightgbm import LGBMClassifier\n",
    "ct = ColumnTransformer([\n",
    "    ('product', TopicEncoder(map_product), 'product'),\n",
    "    ('pending_code', TopicEncoder(map_policy), 'policy_pending_code')\n",
    "],\n",
    "    remainder='passthrough'\n",
    ")"
   ]
  },
  {
   "cell_type": "markdown",
   "id": "d9832f10",
   "metadata": {},
   "source": [
    "# Train Test Split"
   ]
  },
  {
   "cell_type": "code",
   "execution_count": 118,
   "id": "87bd6ea3",
   "metadata": {
    "ExecuteTime": {
     "end_time": "2022-02-24T14:47:42.544851Z",
     "start_time": "2022-02-24T14:47:42.541849Z"
    }
   },
   "outputs": [],
   "source": [
    "feature_colname_raw = ['policy_pending_code', 'product', 'agency_code', 'policy_pending_status',\n",
    "       'document_uploaded', 'paid_by_echannel', 'Age', 'Gender', 'Education_Level', \n",
    "        'app_month_sin', 'app_month_cos', 'close_month_sin', 'close_month_cos'] "
   ]
  },
  {
   "cell_type": "code",
   "execution_count": 119,
   "id": "7b0cc78f",
   "metadata": {
    "ExecuteTime": {
     "end_time": "2022-02-24T14:47:44.436617Z",
     "start_time": "2022-02-24T14:47:44.380591Z"
    }
   },
   "outputs": [],
   "source": [
    "from sklearn.model_selection import train_test_split\n",
    "X_train, X_test, y_train, y_test = train_test_split(\n",
    "    df[feature_colname_raw], df['days'].values, \n",
    "    test_size=0.2, random_state=123, stratify=df['days'].values\n",
    ")"
   ]
  },
  {
   "cell_type": "markdown",
   "id": "332a153b",
   "metadata": {},
   "source": [
    "# LightGBM Tuning"
   ]
  },
  {
   "cell_type": "markdown",
   "id": "ac978b1a",
   "metadata": {},
   "source": [
    "## max_depth num_leaves"
   ]
  },
  {
   "cell_type": "code",
   "execution_count": 121,
   "id": "1bc7b3c4",
   "metadata": {
    "ExecuteTime": {
     "end_time": "2022-02-24T15:02:41.282842Z",
     "start_time": "2022-02-24T14:49:02.583562Z"
    },
    "code_folding": [
     12
    ],
    "collapsed": true
   },
   "outputs": [
    {
     "data": {
      "text/plain": [
       "GridSearchCV(cv=3,\n",
       "             estimator=Pipeline(steps=[('ct',\n",
       "                                        ColumnTransformer(remainder='passthrough',\n",
       "                                                          transformers=[('product',\n",
       "                                                                         TopicEncoder(map_dict={'01exbfn5': 0,\n",
       "                                                                                                '01exbfnp': 1,\n",
       "                                                                                                '01exbfs5': 2,\n",
       "                                                                                                '01exbfsp': 3,\n",
       "                                                                                                '01exrfn5': 4,\n",
       "                                                                                                '01exrmn5': 5,\n",
       "                                                                                                '05exbfn5': 6,\n",
       "                                                                                                '05exbfnp': 7,\n",
       "                                                                                                '05exbfs5': 8,\n",
       "                                                                                                '05exrfn5': 9,\n",
       "                                                                                                '05exrfs5': 10,\n",
       "                                                                                                '05exrmn5': 11,\n",
       "                                                                                                '05necins': 12,\n",
       "                                                                                                '10lprrr5': 13,\n",
       "                                                                                                '2xs55n5': 14,\n",
       "                                                                                                '5lprrr5': 1...\n",
       "                                                                         'policy_pending_code')])),\n",
       "                                       ('lgb',\n",
       "                                        LGBMClassifier(cat_smooth=0,\n",
       "                                                       colsample_bytree=0.7,\n",
       "                                                       max_depth=6,\n",
       "                                                       metric='binary_logloss,auc',\n",
       "                                                       min_child_samples=21,\n",
       "                                                       num_iterations=200,\n",
       "                                                       num_leaves=40,\n",
       "                                                       objective='binary',\n",
       "                                                       reg_alpha=0.001,\n",
       "                                                       reg_lambda=8,\n",
       "                                                       subsample=1,\n",
       "                                                       subsample_freq=2))]),\n",
       "             n_jobs=-1,\n",
       "             param_grid={'lgb__max_depth': [4, 6, 8],\n",
       "                         'lgb__num_leaves': [20, 30, 40],\n",
       "                         'lgb__verbosity': [-1]},\n",
       "             scoring='roc_auc')"
      ]
     },
     "execution_count": 121,
     "metadata": {},
     "output_type": "execute_result"
    }
   ],
   "source": [
    "import warnings\n",
    "from sklearn.pipeline import Pipeline\n",
    "from sklearn.model_selection import GridSearchCV\n",
    "import lightgbm as lgb\n",
    "\n",
    "warnings.filterwarnings(\"ignore\")\n",
    "parameters = {\n",
    "    'lgb__max_depth': [4,6,8],\n",
    "    'lgb__num_leaves': [20,30,40],\n",
    "    'lgb__verbosity': [-1]\n",
    "}\n",
    "\n",
    "gbm = lgb.LGBMClassifier(objective = 'binary',\n",
    "                         metric = 'binary_logloss,auc',\n",
    "                         max_depth = 6,\n",
    "                         num_leaves = 40,\n",
    "                         learning_rate = 0.1,\n",
    "                         colsample_bytree = 0.7,\n",
    "                         min_child_samples=21,\n",
    "                         min_child_weight=0.001,\n",
    "                         subsample = 1,\n",
    "                         subsample_freq = 2,\n",
    "                         reg_alpha = 0.001,\n",
    "                         reg_lambda = 8,\n",
    "                         cat_smooth = 0,\n",
    "                         num_iterations = 200,   \n",
    "                        )\n",
    "pipe = Pipeline([('ct', ct), ('lgb', gbm)])\n",
    "gsearch = GridSearchCV(pipe, param_grid=parameters, scoring='roc_auc', cv=3, n_jobs=-1)\n",
    "gsearch.fit(X_train, y_train, lgb__categorical_feature=[10])  # index of `agency_code`"
   ]
  },
  {
   "cell_type": "code",
   "execution_count": 123,
   "id": "3bbbac3a",
   "metadata": {
    "ExecuteTime": {
     "end_time": "2022-02-24T15:03:21.410714Z",
     "start_time": "2022-02-24T15:03:21.406710Z"
    }
   },
   "outputs": [
    {
     "name": "stdout",
     "output_type": "stream",
     "text": [
      "bset params = {'lgb__max_depth': 6, 'lgb__num_leaves': 30, 'lgb__verbosity': -1}\n",
      "best score = 0.8490138265416755\n"
     ]
    }
   ],
   "source": [
    "print('bset params = {}'.format(gsearch.best_params_))\n",
    "print('best score = {}'.format(gsearch.best_score_))"
   ]
  },
  {
   "cell_type": "markdown",
   "id": "1c0ab636",
   "metadata": {},
   "source": [
    "## min_child_samples  min_child_weight"
   ]
  },
  {
   "cell_type": "code",
   "execution_count": 126,
   "id": "a8ea84a8",
   "metadata": {
    "ExecuteTime": {
     "end_time": "2022-02-24T15:19:52.018259Z",
     "start_time": "2022-02-24T15:05:25.726000Z"
    },
    "code_folding": [
     9
    ]
   },
   "outputs": [],
   "source": [
    "from sklearn.pipeline import Pipeline\n",
    "from sklearn.model_selection import GridSearchCV\n",
    "import lightgbm as lgb\n",
    "\n",
    "parameters = {\n",
    "'lgb__min_child_samples': [18,19,20,21,22],\n",
    "'lgb__min_child_weight' : [0.001,0.002]\n",
    "}\n",
    "\n",
    "gbm = lgb.LGBMClassifier(objective = 'binary',\n",
    "                         metric = 'binary_logloss,auc',\n",
    "                         max_depth = 6,  # from last round\n",
    "                         num_leaves = 30,  # from last round\n",
    "                         learning_rate = 0.1,\n",
    "                         colsample_bytree = 0.7,\n",
    "                         min_child_samples=21,\n",
    "                         min_child_weight=0.001,\n",
    "                         subsample = 1,\n",
    "                         subsample_freq = 2,\n",
    "                         reg_alpha = 0.001,\n",
    "                         reg_lambda = 8,\n",
    "                         cat_smooth = 0,\n",
    "                         num_iterations = 200,   \n",
    "                        )\n",
    "pipe = Pipeline([('ct', ct), ('lgb', gbm)])\n",
    "gsearch = GridSearchCV(pipe, param_grid=parameters, scoring='roc_auc', cv=3, n_jobs=-1)\n",
    "_ = gsearch.fit(X_train, y_train, lgb__categorical_feature=[10])  # index of `agency_code`"
   ]
  },
  {
   "cell_type": "code",
   "execution_count": 127,
   "id": "ff393de5",
   "metadata": {
    "ExecuteTime": {
     "end_time": "2022-02-25T00:18:26.002258Z",
     "start_time": "2022-02-25T00:18:25.996262Z"
    }
   },
   "outputs": [
    {
     "name": "stdout",
     "output_type": "stream",
     "text": [
      "bset params = {'lgb__min_child_samples': 20, 'lgb__min_child_weight': 0.002}\n",
      "best score = 0.8493725322749288\n"
     ]
    }
   ],
   "source": [
    "print('bset params = {}'.format(gsearch.best_params_))\n",
    "print('best score = {}'.format(gsearch.best_score_))"
   ]
  },
  {
   "cell_type": "markdown",
   "id": "bf1bffa3",
   "metadata": {},
   "source": [
    "## colsample_bytree"
   ]
  },
  {
   "cell_type": "code",
   "execution_count": 128,
   "id": "ffddcd06",
   "metadata": {
    "ExecuteTime": {
     "end_time": "2022-02-25T00:23:56.342887Z",
     "start_time": "2022-02-25T00:18:58.084609Z"
    }
   },
   "outputs": [],
   "source": [
    "from sklearn.pipeline import Pipeline\n",
    "from sklearn.model_selection import GridSearchCV\n",
    "import lightgbm as lgb\n",
    "\n",
    "parameters = {\n",
    "    'lgb__colsample_bytree': [0.6, 0.7, .8],\n",
    "}\n",
    "\n",
    "gbm = lgb.LGBMClassifier(objective = 'binary',\n",
    "                         metric = 'binary_logloss,auc',\n",
    "                         max_depth = 8,  # from previousx round\n",
    "                         num_leaves = 40,  # from previous round\n",
    "                         learning_rate = 0.1,\n",
    "                         colsample_bytree = 0.7,\n",
    "                         min_child_samples = 20, # from previousx round\n",
    "                         min_child_weight = 0.002, # from previousx round\n",
    "                         subsample = 1,\n",
    "                         subsample_freq = 2,\n",
    "                         reg_alpha = 0.001,\n",
    "                         reg_lambda = 8,\n",
    "                         cat_smooth = 0,\n",
    "                         num_iterations = 200,   \n",
    "                        )\n",
    "pipe = Pipeline([('ct', ct), ('lgb', gbm)])\n",
    "gsearch = GridSearchCV(pipe, param_grid=parameters, scoring='roc_auc', cv=3, n_jobs=-1)\n",
    "_ = gsearch.fit(X_train, y_train, lgb__categorical_feature=[10])  # index of `agency_code`"
   ]
  },
  {
   "cell_type": "code",
   "execution_count": 129,
   "id": "b2baf6d1",
   "metadata": {
    "ExecuteTime": {
     "end_time": "2022-02-25T00:23:56.348891Z",
     "start_time": "2022-02-25T00:23:56.344888Z"
    }
   },
   "outputs": [
    {
     "name": "stdout",
     "output_type": "stream",
     "text": [
      "bset params = {'lgb__colsample_bytree': 0.6}\n",
      "best score = 0.8495882025701756\n"
     ]
    }
   ],
   "source": [
    "print('bset params = {}'.format(gsearch.best_params_))\n",
    "print('best score = {}'.format(gsearch.best_score_))"
   ]
  },
  {
   "cell_type": "markdown",
   "id": "31c02f23",
   "metadata": {},
   "source": [
    "## subsample subsample_freq"
   ]
  },
  {
   "cell_type": "code",
   "execution_count": 130,
   "id": "0a207028",
   "metadata": {
    "ExecuteTime": {
     "end_time": "2022-02-25T01:18:25.703830Z",
     "start_time": "2022-02-25T01:00:46.965293Z"
    }
   },
   "outputs": [],
   "source": [
    "from sklearn.pipeline import Pipeline\n",
    "from sklearn.model_selection import GridSearchCV\n",
    "import lightgbm as lgb\n",
    "\n",
    "parameters = {\n",
    "     'lgb__subsample': [0.7,0.8,0.9,1],\n",
    "     'lgb__subsample_freq': [2,3,4],\n",
    "}\n",
    "\n",
    "gbm = lgb.LGBMClassifier(objective = 'binary',\n",
    "                         metric = 'binary_logloss,auc',\n",
    "                         max_depth = 8,  # from previousx round\n",
    "                         num_leaves = 40,  # from previous round\n",
    "                         learning_rate = 0.1,\n",
    "                         colsample_bytree = 0.6, # from previousx round\n",
    "                         min_child_samples = 18, # from previousx round\n",
    "                         min_child_weight = 0.001, # from previousx round\n",
    "                         subsample = 1,\n",
    "                         subsample_freq = 2,\n",
    "                         reg_alpha = 0.001,\n",
    "                         reg_lambda = 8,\n",
    "                         cat_smooth = 0,\n",
    "                         num_iterations = 200,   \n",
    "                        )\n",
    "pipe = Pipeline([('ct', ct), ('lgb', gbm)])\n",
    "gsearch = GridSearchCV(pipe, param_grid=parameters, scoring='roc_auc', cv=3, n_jobs=-1)\n",
    "_ = gsearch.fit(X_train, y_train, lgb__categorical_feature=[10])  # index of `agency_code`"
   ]
  },
  {
   "cell_type": "code",
   "execution_count": 131,
   "id": "41a693a6",
   "metadata": {
    "ExecuteTime": {
     "end_time": "2022-02-25T01:18:25.709833Z",
     "start_time": "2022-02-25T01:18:25.705831Z"
    }
   },
   "outputs": [
    {
     "name": "stdout",
     "output_type": "stream",
     "text": [
      "bset params = {'lgb__subsample': 1, 'lgb__subsample_freq': 4}\n",
      "best score = 0.8499055751825347\n"
     ]
    }
   ],
   "source": [
    "print('bset params = {}'.format(gsearch.best_params_)) \n",
    "print('best score = {}'.format(gsearch.best_score_))"
   ]
  },
  {
   "cell_type": "markdown",
   "id": "39b39e98",
   "metadata": {},
   "source": [
    "## reg_alpha reg_lambda"
   ]
  },
  {
   "cell_type": "code",
   "execution_count": 132,
   "id": "ecc2b616",
   "metadata": {
    "ExecuteTime": {
     "end_time": "2022-02-25T01:48:48.516485Z",
     "start_time": "2022-02-25T01:24:36.949764Z"
    }
   },
   "outputs": [],
   "source": [
    "from sklearn.pipeline import Pipeline\n",
    "from sklearn.model_selection import GridSearchCV\n",
    "import lightgbm as lgb\n",
    "\n",
    "parameters = {\n",
    "     'lgb__reg_alpha': [1e-5, 1e-3, 1e-1, 10],\n",
    "     'lgb__reg_lambda': [4, 8, 16, 32],\n",
    "}\n",
    "\n",
    "gbm = lgb.LGBMClassifier(objective = 'binary',\n",
    "                         metric = 'binary_logloss,auc',\n",
    "                         max_depth = 8,  # from previousx round\n",
    "                         num_leaves = 40,  # from previous round\n",
    "                         learning_rate = 0.1,\n",
    "                         colsample_bytree = 0.6, # from previousx round\n",
    "                         min_child_samples = 18, # from previousx round\n",
    "                         min_child_weight = 0.001, # from previousx round\n",
    "                         subsample = 1, # from previousx round\n",
    "                         subsample_freq = 4, # from previousx round\n",
    "                         reg_alpha = 0.001,\n",
    "                         reg_lambda = 8,\n",
    "                         cat_smooth = 0,\n",
    "                         num_iterations = 200,   \n",
    "                        )\n",
    "pipe = Pipeline([('ct', ct), ('lgb', gbm)])\n",
    "gsearch = GridSearchCV(pipe, param_grid=parameters, scoring='roc_auc', cv=3, n_jobs=-1)\n",
    "_ = gsearch.fit(X_train, y_train, lgb__categorical_feature=[10])  # index of `agency_code`"
   ]
  },
  {
   "cell_type": "code",
   "execution_count": 133,
   "id": "87e32cee",
   "metadata": {
    "ExecuteTime": {
     "end_time": "2022-02-25T01:49:10.243832Z",
     "start_time": "2022-02-25T01:49:10.239822Z"
    }
   },
   "outputs": [
    {
     "name": "stdout",
     "output_type": "stream",
     "text": [
      "bset params = {'lgb__reg_alpha': 1e-05, 'lgb__reg_lambda': 32}\n",
      "best score = 0.8496056136267999\n"
     ]
    }
   ],
   "source": [
    "print('bset params = {}'.format(gsearch.best_params_))\n",
    "print('best score = {}'.format(gsearch.best_score_))"
   ]
  },
  {
   "cell_type": "markdown",
   "id": "23279b6f",
   "metadata": {},
   "source": [
    "## cat_smooth"
   ]
  },
  {
   "cell_type": "code",
   "execution_count": 134,
   "id": "cad018bd",
   "metadata": {
    "ExecuteTime": {
     "end_time": "2022-02-25T02:00:22.162934Z",
     "start_time": "2022-02-25T01:50:06.952245Z"
    }
   },
   "outputs": [],
   "source": [
    "from sklearn.pipeline import Pipeline\n",
    "from sklearn.model_selection import GridSearchCV\n",
    "import lightgbm as lgb\n",
    "\n",
    "parameters = {\n",
    "     'lgb__cat_smooth': [0, 10, 20, 40, 80],\n",
    "}\n",
    "\n",
    "gbm = lgb.LGBMClassifier(objective = 'binary',\n",
    "                         metric = 'binary_logloss,auc',\n",
    "                         max_depth = 8,  # from previousx round\n",
    "                         num_leaves = 40,  # from previous round\n",
    "                         learning_rate = 0.1,\n",
    "                         colsample_bytree = 0.6, # from previousx round\n",
    "                         min_child_samples = 18, # from previousx round\n",
    "                         min_child_weight = 0.001, # from previousx round\n",
    "                         subsample = 1, # from previousx round\n",
    "                         subsample_freq = 4, # from previousx round\n",
    "                         reg_alpha = 1e-5, # from previousx round\n",
    "                         reg_lambda = 32, # from previousx round\n",
    "                         cat_smooth = 0,\n",
    "                         num_iterations = 200,   \n",
    "                        )\n",
    "pipe = Pipeline([('ct', ct), ('lgb', gbm)])\n",
    "gsearch = GridSearchCV(pipe, param_grid=parameters, scoring='roc_auc', cv=3, n_jobs=-1)\n",
    "_ = gsearch.fit(X_train, y_train, lgb__categorical_feature=[10])  # index of `agency_code`"
   ]
  },
  {
   "cell_type": "code",
   "execution_count": 136,
   "id": "0c82da5a",
   "metadata": {
    "ExecuteTime": {
     "end_time": "2022-02-25T02:02:34.709273Z",
     "start_time": "2022-02-25T02:02:34.704234Z"
    }
   },
   "outputs": [
    {
     "name": "stdout",
     "output_type": "stream",
     "text": [
      "bset params = {'lgb__cat_smooth': 0}\n",
      "best score = 0.8489535070402191\n"
     ]
    }
   ],
   "source": [
    "print('bset params = {}'.format(gsearch.best_params_))\n",
    "print('best score = {}'.format(gsearch.best_score_))"
   ]
  },
  {
   "cell_type": "markdown",
   "id": "3a8ee4b8",
   "metadata": {},
   "source": [
    "## learning_rate num_iterations"
   ]
  },
  {
   "cell_type": "code",
   "execution_count": 137,
   "id": "bbe4c93d",
   "metadata": {
    "ExecuteTime": {
     "end_time": "2022-02-25T02:18:41.493949Z",
     "start_time": "2022-02-25T02:03:08.247097Z"
    },
    "code_folding": []
   },
   "outputs": [],
   "source": [
    "from sklearn.pipeline import Pipeline\n",
    "from sklearn.model_selection import GridSearchCV\n",
    "import lightgbm as lgb\n",
    "\n",
    "parameters = {\n",
    "     'lgb__learning_rate': [1e-3, 1e-2, .1],\n",
    "    'lgb__num_iterations': [100, 200, 300]\n",
    "}\n",
    "\n",
    "gbm = lgb.LGBMClassifier(objective = 'binary',\n",
    "                         metric = 'binary_logloss,auc',\n",
    "                         max_depth = 8,  # from previousx round\n",
    "                         num_leaves = 40,  # from previous round\n",
    "                         learning_rate = 0.1,\n",
    "                         colsample_bytree = 0.6, # from previousx round\n",
    "                         min_child_samples = 18, # from previousx round\n",
    "                         min_child_weight = 0.001, # from previousx round\n",
    "                         subsample = 1, # from previousx round\n",
    "                         subsample_freq = 4, # from previousx round\n",
    "                         reg_alpha = 1e-5, # from previousx round\n",
    "                         reg_lambda = 4, # from previousx round\n",
    "                         cat_smooth = 0, # from previousx round\n",
    "                         num_iterations = 200,   \n",
    "                        )\n",
    "pipe = Pipeline([('ct', ct), ('lgb', gbm)])\n",
    "gsearch = GridSearchCV(pipe, param_grid=parameters, scoring='roc_auc', cv=3, n_jobs=-1)\n",
    "_ = gsearch.fit(X_train, y_train, lgb__categorical_feature=[10])  # index of `agency_code`"
   ]
  },
  {
   "cell_type": "code",
   "execution_count": 138,
   "id": "db20d3e5",
   "metadata": {
    "ExecuteTime": {
     "end_time": "2022-02-25T02:21:51.974736Z",
     "start_time": "2022-02-25T02:21:51.968741Z"
    }
   },
   "outputs": [
    {
     "name": "stdout",
     "output_type": "stream",
     "text": [
      "参数的最佳取值:{'lgb__learning_rate': 0.1, 'lgb__num_iterations': 200}\n",
      "最佳模型得分:0.850287834244928\n"
     ]
    }
   ],
   "source": [
    "print('参数的最佳取值:{0}'.format(gsearch.best_params_))\n",
    "print('最佳模型得分:{0}'.format(gsearch.best_score_))"
   ]
  },
  {
   "cell_type": "markdown",
   "id": "ed6ac7ee",
   "metadata": {},
   "source": [
    "# Model Evaluation"
   ]
  },
  {
   "cell_type": "code",
   "execution_count": 140,
   "id": "0be38b2d",
   "metadata": {
    "ExecuteTime": {
     "end_time": "2022-02-25T02:23:11.681650Z",
     "start_time": "2022-02-25T02:22:44.537698Z"
    },
    "code_folding": []
   },
   "outputs": [],
   "source": [
    "gbm= lgb.LGBMClassifier(objective = 'binary',\n",
    "                         metric = 'binary_logloss,auc',\n",
    "                         max_depth = 8,  # from previousx round\n",
    "                         num_leaves = 40,  # from previous round\n",
    "                         learning_rate = 0.1, # from previous round\n",
    "                         colsample_bytree = 0.6, # from previousx round\n",
    "                         min_child_samples = 18, # from previousx round\n",
    "                         min_child_weight = 0.001, # from previousx round\n",
    "                         subsample = 1, # from previousx round\n",
    "                         subsample_freq = 4, # from previousx round\n",
    "                         reg_alpha = 1e-5, # from previousx round\n",
    "                         reg_lambda = 4, # from previousx round\n",
    "                         cat_smooth = 0, # from previousx round\n",
    "                         num_iterations = 200,   # from previous round\n",
    "                        )\n",
    "pipe = Pipeline([('ct', ct), ('lgb', gbm)])\n",
    "_ = pipe.fit(X_train, y_train, lgb__categorical_feature=[10])"
   ]
  },
  {
   "cell_type": "code",
   "execution_count": 141,
   "id": "9eda1fd6",
   "metadata": {
    "ExecuteTime": {
     "end_time": "2022-02-25T02:24:03.772873Z",
     "start_time": "2022-02-25T02:24:01.768295Z"
    }
   },
   "outputs": [],
   "source": [
    "from sklearn.metrics import roc_auc_score\n",
    "y_pred_train = pipe.predict_proba(X_train)\n",
    "y_pred_test = pipe.predict_proba(X_test)"
   ]
  },
  {
   "cell_type": "code",
   "execution_count": 142,
   "id": "a7673eac",
   "metadata": {
    "ExecuteTime": {
     "end_time": "2022-02-25T02:24:06.209358Z",
     "start_time": "2022-02-25T02:24:06.176350Z"
    }
   },
   "outputs": [
    {
     "name": "stdout",
     "output_type": "stream",
     "text": [
      "训练集 auc = 0.8816565713879078\n",
      "测试集 auc = 0.8513312011206563\n"
     ]
    }
   ],
   "source": [
    "print('训练集 auc =', roc_auc_score(y_train, y_pred_train[:, 1]))\n",
    "print('测试集 auc =', roc_auc_score(y_test, y_pred_test[:, 1]))"
   ]
  },
  {
   "cell_type": "markdown",
   "id": "4ac2f60d",
   "metadata": {},
   "source": [
    "# save model"
   ]
  },
  {
   "cell_type": "code",
   "execution_count": 160,
   "id": "ee916794",
   "metadata": {
    "ExecuteTime": {
     "end_time": "2022-02-25T03:03:19.618156Z",
     "start_time": "2022-02-25T03:02:44.834854Z"
    }
   },
   "outputs": [],
   "source": [
    "gbm_final= lgb.LGBMClassifier(objective = 'binary',\n",
    "                         metric = 'binary_logloss,auc',\n",
    "                         max_depth = 8,  # from previousx round\n",
    "                         num_leaves = 40,  # from previous round\n",
    "                         learning_rate = 0.1, # from previous round\n",
    "                         colsample_bytree = 0.6, # from previousx round\n",
    "                         min_child_samples = 18, # from previousx round\n",
    "                         min_child_weight = 0.001, # from previousx round\n",
    "                         subsample = 1, # from previousx round\n",
    "                         subsample_freq = 4, # from previousx round\n",
    "                         reg_alpha = 1e-5, # from previousx round\n",
    "                         reg_lambda = 4, # from previousx round\n",
    "                         cat_smooth = 0, # from previousx round\n",
    "                         num_iterations = 200,   # from previous round\n",
    "                        )\n",
    "pipe = Pipeline([('ct', ct), ('lgb', gbm_final)])\n",
    "_ = pipe.fit(df[feature_colname_raw], df['days'].values, lgb__categorical_feature=[10])\n",
    "\n",
    "import pickle\n",
    "with open ('data/processed/topic_lgb.pkl', 'wb') as f:\n",
    "    pickle.dump(pipe, f)"
   ]
  },
  {
   "cell_type": "markdown",
   "id": "e90798c7",
   "metadata": {},
   "source": [
    "# further analysis"
   ]
  },
  {
   "cell_type": "markdown",
   "id": "7f75e986",
   "metadata": {},
   "source": [
    "## feature importance"
   ]
  },
  {
   "cell_type": "code",
   "execution_count": 143,
   "id": "cb8cae7d",
   "metadata": {
    "ExecuteTime": {
     "end_time": "2022-02-25T02:24:13.275874Z",
     "start_time": "2022-02-25T02:24:13.271866Z"
    }
   },
   "outputs": [],
   "source": [
    "ct_model = pipe.named_steps['ct']\n",
    "lgb_model = pipe.named_steps['lgb']"
   ]
  },
  {
   "cell_type": "code",
   "execution_count": 144,
   "id": "9a7f87db",
   "metadata": {
    "ExecuteTime": {
     "end_time": "2022-02-25T02:24:16.696373Z",
     "start_time": "2022-02-25T02:24:16.682369Z"
    }
   },
   "outputs": [
    {
     "data": {
      "text/plain": [
       "Age                      779\n",
       "agency_code              774\n",
       "product_topic3           617\n",
       "product_topic4           599\n",
       "product_topic2           576\n",
       "product_topic5           570\n",
       "product_topic1           553\n",
       "app_month_sin            407\n",
       "pending_code_topic2      346\n",
       "pending_code_topic1      346\n",
       "app_month_cos            322\n",
       "pending_code_topic4      294\n",
       "pending_code_topic3      284\n",
       "pending_code_topic5      277\n",
       "close_month_cos          225\n",
       "close_month_sin          204\n",
       "paid_by_echannel         153\n",
       "Education_Level          143\n",
       "document_uploaded         94\n",
       "Gender                    89\n",
       "policy_pending_status     51\n",
       "dtype: int32"
      ]
     },
     "execution_count": 144,
     "metadata": {},
     "output_type": "execute_result"
    }
   ],
   "source": [
    "feature_name_transformed = [\n",
    "    'pending_code_topic1', 'pending_code_topic2', 'pending_code_topic3', 'pending_code_topic4', 'pending_code_topic5',\n",
    "    'product_topic1', 'product_topic2', 'product_topic3', 'product_topic4', 'product_topic5', \n",
    "    'agency_code', 'policy_pending_status', 'document_uploaded', 'paid_by_echannel', 'Age', 'Gender', 'Education_Level', \n",
    "        'app_month_sin', 'app_month_cos', 'close_month_sin', 'close_month_cos'\n",
    "]\n",
    "feature_rank = pd.Series(lgb_model.feature_importances_,\n",
    "                         index=feature_name_transformed).sort_values(ascending=False)\n",
    "feature_rank"
   ]
  },
  {
   "cell_type": "markdown",
   "id": "e794f6c4",
   "metadata": {},
   "source": [
    "## topics of 'product'"
   ]
  },
  {
   "cell_type": "code",
   "execution_count": 145,
   "id": "d2a1ae2f",
   "metadata": {
    "ExecuteTime": {
     "end_time": "2022-02-25T02:24:46.204331Z",
     "start_time": "2022-02-25T02:24:46.199331Z"
    }
   },
   "outputs": [],
   "source": [
    "lda_product = ct.named_transformers_['product'].lda\n",
    "colnames = list(map_product.keys())"
   ]
  },
  {
   "cell_type": "code",
   "execution_count": 156,
   "id": "1ef01aca",
   "metadata": {
    "ExecuteTime": {
     "end_time": "2022-02-25T02:27:30.844576Z",
     "start_time": "2022-02-25T02:27:30.832577Z"
    }
   },
   "outputs": [
    {
     "data": {
      "text/html": [
       "<div>\n",
       "<style scoped>\n",
       "    .dataframe tbody tr th:only-of-type {\n",
       "        vertical-align: middle;\n",
       "    }\n",
       "\n",
       "    .dataframe tbody tr th {\n",
       "        vertical-align: top;\n",
       "    }\n",
       "\n",
       "    .dataframe thead th {\n",
       "        text-align: right;\n",
       "    }\n",
       "</style>\n",
       "<table border=\"1\" class=\"dataframe\">\n",
       "  <thead>\n",
       "    <tr style=\"text-align: right;\">\n",
       "      <th></th>\n",
       "      <th>rank1_component</th>\n",
       "      <th>rank2_component</th>\n",
       "      <th>rank3_component</th>\n",
       "      <th>rank4_component</th>\n",
       "      <th>rank5_component</th>\n",
       "      <th>rank6_component</th>\n",
       "      <th>rank7_component</th>\n",
       "      <th>rank8_component</th>\n",
       "      <th>rank9_component</th>\n",
       "      <th>rank10_component</th>\n",
       "    </tr>\n",
       "  </thead>\n",
       "  <tbody>\n",
       "    <tr>\n",
       "      <th>topic1</th>\n",
       "      <td>medi</td>\n",
       "      <td>modyrnn5</td>\n",
       "      <td>modcinn5</td>\n",
       "      <td>modcdbn5</td>\n",
       "      <td>modahin5</td>\n",
       "      <td>modaddn5</td>\n",
       "      <td>05necins</td>\n",
       "      <td>scpr2sn5</td>\n",
       "      <td>life</td>\n",
       "      <td>hs1mnb</td>\n",
       "    </tr>\n",
       "    <tr>\n",
       "      <th>topic2</th>\n",
       "      <td>5lprrr5</td>\n",
       "      <td>scip2nn5</td>\n",
       "      <td>ehp223n7</td>\n",
       "      <td>moeyrnn5</td>\n",
       "      <td>cpals4n5</td>\n",
       "      <td>ehp222n8</td>\n",
       "      <td>ehp220n7</td>\n",
       "      <td>erp23pn8</td>\n",
       "      <td>ropc6nn5</td>\n",
       "      <td>05exbfnp</td>\n",
       "    </tr>\n",
       "    <tr>\n",
       "      <th>topic3</th>\n",
       "      <td>life</td>\n",
       "      <td>cancer</td>\n",
       "      <td>erp223n6</td>\n",
       "      <td>sclr2nn5</td>\n",
       "      <td>erp222n6</td>\n",
       "      <td>sprrs5</td>\n",
       "      <td>hbnm</td>\n",
       "      <td>cpaadend</td>\n",
       "      <td>pilrpn5</td>\n",
       "      <td>ehp223n8</td>\n",
       "    </tr>\n",
       "    <tr>\n",
       "      <th>topic4</th>\n",
       "      <td>life</td>\n",
       "      <td>add</td>\n",
       "      <td>cpaadend</td>\n",
       "      <td>erp220n6</td>\n",
       "      <td>erp222n8</td>\n",
       "      <td>sclr2sn5</td>\n",
       "      <td>hs1mnz</td>\n",
       "      <td>erp23pn8</td>\n",
       "      <td>erp220n8</td>\n",
       "      <td>05exbfs5</td>\n",
       "    </tr>\n",
       "    <tr>\n",
       "      <th>topic5</th>\n",
       "      <td>10lprrr5</td>\n",
       "      <td>erp223n8</td>\n",
       "      <td>dd</td>\n",
       "      <td>ehp222n7</td>\n",
       "      <td>05exbfn5</td>\n",
       "      <td>scip2sn5</td>\n",
       "      <td>01exbfn5</td>\n",
       "      <td>moecinn5</td>\n",
       "      <td>scpr2nn5</td>\n",
       "      <td>scpp2nn5</td>\n",
       "    </tr>\n",
       "  </tbody>\n",
       "</table>\n",
       "</div>"
      ],
      "text/plain": [
       "       rank1_component rank2_component rank3_component rank4_component  \\\n",
       "topic1            medi        modyrnn5        modcinn5        modcdbn5   \n",
       "topic2         5lprrr5        scip2nn5        ehp223n7        moeyrnn5   \n",
       "topic3            life          cancer        erp223n6        sclr2nn5   \n",
       "topic4            life             add        cpaadend        erp220n6   \n",
       "topic5        10lprrr5        erp223n8              dd        ehp222n7   \n",
       "\n",
       "       rank5_component rank6_component rank7_component rank8_component  \\\n",
       "topic1        modahin5        modaddn5        05necins        scpr2sn5   \n",
       "topic2        cpals4n5        ehp222n8        ehp220n7        erp23pn8   \n",
       "topic3        erp222n6          sprrs5            hbnm        cpaadend   \n",
       "topic4        erp222n8        sclr2sn5          hs1mnz        erp23pn8   \n",
       "topic5        05exbfn5        scip2sn5        01exbfn5        moecinn5   \n",
       "\n",
       "       rank9_component rank10_component  \n",
       "topic1            life           hs1mnb  \n",
       "topic2        ropc6nn5         05exbfnp  \n",
       "topic3         pilrpn5         ehp223n8  \n",
       "topic4        erp220n8         05exbfs5  \n",
       "topic5        scpr2nn5         scpp2nn5  "
      ]
     },
     "execution_count": 156,
     "metadata": {},
     "output_type": "execute_result"
    }
   ],
   "source": [
    "from src.utils import get_topN_topic_representation\n",
    "get_topN_topic_representation(lda_product.components_, colnames, 10)"
   ]
  },
  {
   "cell_type": "markdown",
   "id": "0ef547b3",
   "metadata": {},
   "source": [
    "# Discussion"
   ]
  },
  {
   "cell_type": "markdown",
   "id": "cdfeb418",
   "metadata": {
    "ExecuteTime": {
     "end_time": "2022-02-25T02:49:26.184094Z",
     "start_time": "2022-02-25T02:49:26.179092Z"
    }
   },
   "source": [
    "最重要的两个feature是Age和agency_code，说明申请者的年龄和申请单位对结果的影响最大；<br>\n",
    "其次重要的feature是\"product\",这个特征被分解为5个topic，重要性最高的topic3和topic4中最重要的product都是\"life\"，\n",
    "显示这一产品对结果影响较大<br>\n",
    "提出申请的月份和pending code也对结果有一定影响"
   ]
  },
  {
   "cell_type": "markdown",
   "id": "de8477c3",
   "metadata": {},
   "source": [
    "# Further Work"
   ]
  },
  {
   "cell_type": "markdown",
   "id": "6ce4f066",
   "metadata": {},
   "source": [
    "product和pending_code的主题模型分解可以进一步调整，如探索最佳topic个数等；<br>\n",
    "agency_code和agent_code也存在进一步挖掘的可能性，但需要业务知识辅助<br>\n",
    "lightgbm的调参可能存在更好参数组合<br>\n",
    "在业务知识指导下，可能挖掘出更多可用feature"
   ]
  },
  {
   "cell_type": "code",
   "execution_count": null,
   "id": "45921e40",
   "metadata": {},
   "outputs": [],
   "source": []
  }
 ],
 "metadata": {
  "kernelspec": {
   "display_name": "Python 3",
   "language": "python",
   "name": "python3"
  },
  "language_info": {
   "codemirror_mode": {
    "name": "ipython",
    "version": 3
   },
   "file_extension": ".py",
   "mimetype": "text/x-python",
   "name": "python",
   "nbconvert_exporter": "python",
   "pygments_lexer": "ipython3",
   "version": "3.8.8"
  },
  "toc": {
   "base_numbering": 1,
   "nav_menu": {},
   "number_sections": true,
   "sideBar": true,
   "skip_h1_title": false,
   "title_cell": "Table of Contents",
   "title_sidebar": "Contents",
   "toc_cell": false,
   "toc_position": {
    "height": "calc(100% - 180px)",
    "left": "10px",
    "top": "150px",
    "width": "256px"
   },
   "toc_section_display": true,
   "toc_window_display": true
  }
 },
 "nbformat": 4,
 "nbformat_minor": 5
}
